{
 "cells": [
  {
   "cell_type": "markdown",
   "metadata": {
    "colab_type": "text",
    "id": "umwP7FX5OppI"
   },
   "source": [
    "## An Aside about Degrees of Freedom (N-1)"
   ]
  },
  {
   "cell_type": "code",
   "execution_count": 23,
   "metadata": {
    "colab": {},
    "colab_type": "code",
    "id": "hT52gS4oOrA4"
   },
   "outputs": [],
   "source": [
    "coinflips = [0,1,1]\n",
    "\n",
    "mean = 2.0/3.0\n",
    "\n",
    "coinflips = [1, 0, 1]"
   ]
  },
  {
   "cell_type": "markdown",
   "metadata": {
    "colab_type": "text",
    "id": "H7OLbevlbd_Z"
   },
   "source": [
    "# Lambda School Data Science Module 143\n",
    "\n",
    "## Introduction to Bayesian Inference\n",
    "\n",
    "!['Detector! What would the Bayesian statistician say if I asked him whether the--' [roll] 'I AM A NEUTRINO DETECTOR, NOT A LABYRINTH GUARD. SERIOUSLY, DID YOUR BRAIN FALL OUT?' [roll] '... yes.'](https://imgs.xkcd.com/comics/frequentists_vs_bayesians.png)\n",
    "\n",
    "*[XKCD 1132](https://www.xkcd.com/1132/)*\n"
   ]
  },
  {
   "cell_type": "markdown",
   "metadata": {
    "colab_type": "text",
    "id": "3mz8p08BsN6p"
   },
   "source": [
    "## Prepare - Bayes' Theorem and the Bayesian mindset"
   ]
  },
  {
   "cell_type": "markdown",
   "metadata": {
    "colab_type": "text",
    "id": "GhycNr-Sbeie"
   },
   "source": [
    "Bayes' theorem possesses a near-mythical quality - a bit of math that somehow magically evaluates a situation. But this mythicalness has more to do with its reputation and advanced applications than the actual core of it - deriving it is actually remarkably straightforward.\n",
    "\n",
    "### The Law of Total Probability\n",
    "\n",
    "By definition, the total probability of all outcomes (events) if some variable (event space) $A$ is 1. That is:\n",
    "\n",
    "$$P(A) = \\sum_n P(A_n) = 1$$\n",
    "\n",
    "The law of total probability takes this further, considering two variables ($A$ and $B$) and relating their marginal probabilities (their likelihoods considered independently, without reference to one another) and their conditional probabilities (their likelihoods considered jointly). A marginal probability is simply notated as e.g. $P(A)$, while a conditional probability is notated $P(A|B)$, which reads \"probability of $A$ *given* $B$\".\n",
    "\n",
    "The law of total probability states:\n",
    "\n",
    "$$P(A) = \\sum_n P(A | B_n) P(B_n)$$\n",
    "\n",
    "In words - the total probability of $A$ is equal to the sum of the conditional probability of $A$ on any given event $B_n$ times the probability of that event $B_n$, and summed over all possible events in $B$.\n",
    "\n",
    "### The Law of Conditional Probability\n",
    "\n",
    "What's the probability of something conditioned on something else? To determine this we have to go back to set theory and think about the intersection of sets:\n",
    "\n",
    "The formula for actual calculation:\n",
    "\n",
    "$$P(A|B) = \\frac{P(A \\cap B)}{P(B)}$$\n",
    "\n",
    "![Visualization of set intersection](https://upload.wikimedia.org/wikipedia/commons/9/99/Venn0001.svg)\n",
    "\n",
    "Think of the overall rectangle as the whole probability space, $A$ as the left circle, $B$ as the right circle, and their intersection as the red area. Try to visualize the ratio being described in the above formula, and how it is different from just the $P(A)$ (not conditioned on $B$).\n",
    "\n",
    "We can see how this relates back to the law of total probability - multiply both sides by $P(B)$ and you get $P(A|B)P(B) = P(A \\cap B)$ - replaced back into the law of total probability we get $P(A) = \\sum_n P(A \\cap B_n)$.\n",
    "\n",
    "This may not seem like an improvement at first, but try to relate it back to the above picture - if you think of sets as physical objects, we're saying that the total probability of $A$ given $B$ is all the little pieces of it intersected with $B$, added together. The conditional probability is then just that again, but divided by the probability of $B$ itself happening in the first place.\n",
    "\n",
    "\\begin{align}\n",
    "P(A|B) &= \\frac{P(A \\cap B)}{P(B)}\\\\\n",
    "\\Rightarrow P(A|B)P(B) &= P(A \\cap B)\\\\\n",
    "P(B|A) &= \\frac{P(B \\cap A)}{P(A)}\\\\\n",
    "\\Rightarrow P(B|A)P(A) &= P(B \\cap A)\\\\\n",
    "\\Rightarrow P(A|B)P(B) &= P(B|A)P(A) \\\\\n",
    "P(A \\cap B) &= P(B \\cap A)\\\\\n",
    "P(A|B) &= \\frac{P(B|A) \\times P(A)}{P(B)}\n",
    "\\end{align}\n",
    " \n",
    "### Bayes Theorem\n",
    "\n",
    "![Baye's Theorem with Labels](https://www.probabilisticworld.com/wp-content/uploads/2016/06/bayes-theorem-with-description-2.png)\n",
    "\n",
    "Here is is, the seemingly magic tool:\n",
    "\n",
    "$P(A|B) = \\frac{P(B|A)P(A)}{P(B)}$\n",
    "\n",
    "In words - the probability of $A$ conditioned on $B$ is the probability of $B$ conditioned on $A$, times the probability of $A$ and divided by the probability of $B$. These unconditioned probabilities are referred to as \"prior beliefs\", and the conditioned probabilities as \"updated.\"\n",
    "\n",
    "Why is this important? Scroll back up to the XKCD example - the Bayesian statistician draws a less absurd conclusion because their prior belief in the likelihood that the sun will go nova is extremely low. So, even when updated based on evidence from a detector that is $35/36 = 0.972$ accurate, the prior belief doesn't shift enough to change their overall opinion.\n",
    "\n",
    "There's many examples of Bayes' theorem - one less absurd example is to apply to [breathalyzer tests](https://www.bayestheorem.net/breathalyzer-example/). You may think that a breathalyzer test that is 100% accurate for true positives (detecting somebody who is drunk) is pretty good, but what if it also has 8% false positives (indicating somebody is drunk when they're not)? And furthermore, the rate of drunk driving (and thus our prior belief)  is 1/1000.\n",
    "\n",
    "What is the likelihood somebody really is drunk if they test positive? Some may guess it's 92% - the difference between the true positives and the false positives. But we have a prior belief of the background/true rate of drunk driving. Sounds like a job for Bayes' theorem!\n",
    "\n",
    "$$\n",
    "\\begin{aligned}\n",
    "P(Drunk | Positive) &= \\frac{P(Positive | Drunk)P(Drunk)}{P(Positive)} \\\\\n",
    "&= \\frac{1 \\times 0.001}{0.08} \\\\\n",
    "&= 0.0125\n",
    "\\end{aligned}\n",
    "$$\n",
    "\n",
    "In other words, the likelihood that somebody is drunk given they tested positive with a breathalyzer in this situation is only 1.25% - probably much lower than you'd guess. This is why, in practice, it's important to have a repeated test to confirm (the probability of two false positives in a row is $0.08 * 0.08 = 0.0064$, much lower), and Bayes' theorem has been relevant in court cases where proper consideration of evidence was important."
   ]
  },
  {
   "cell_type": "code",
   "execution_count": 24,
   "metadata": {
    "colab": {
     "base_uri": "https://localhost:8080/",
     "height": 35
    },
    "colab_type": "code",
    "id": "bb6ksmCHc6w0",
    "outputId": "e1f5342e-c813-4400-d9f1-1bff244a0658"
   },
   "outputs": [
    {
     "name": "stdout",
     "output_type": "stream",
     "text": [
      "0.0125\n"
     ]
    }
   ],
   "source": [
    "first_test = (1*.001)/.08\n",
    "print(first_test)"
   ]
  },
  {
   "cell_type": "code",
   "execution_count": 25,
   "metadata": {
    "colab": {
     "base_uri": "https://localhost:8080/",
     "height": 35
    },
    "colab_type": "code",
    "id": "H0P08vXVdBUZ",
    "outputId": "068fbf56-8d5f-4a9b-a0f0-3a0c107ded58"
   },
   "outputs": [
    {
     "name": "stdout",
     "output_type": "stream",
     "text": [
      "0.15625\n"
     ]
    }
   ],
   "source": [
    "second_test = (1*.0125)/.08\n",
    "print(second_test)"
   ]
  },
  {
   "cell_type": "code",
   "execution_count": 26,
   "metadata": {
    "colab": {
     "base_uri": "https://localhost:8080/",
     "height": 35
    },
    "colab_type": "code",
    "id": "bPUXj84XdHAD",
    "outputId": "428e560a-b3fb-44e8-fcf3-a52306eab095"
   },
   "outputs": [
    {
     "name": "stdout",
     "output_type": "stream",
     "text": [
      "1.953125\n"
     ]
    }
   ],
   "source": [
    "third_test = (1*.15625)/.08\n",
    "print(third_test)"
   ]
  },
  {
   "cell_type": "markdown",
   "metadata": {
    "colab_type": "text",
    "id": "htI3DGvDsRJF"
   },
   "source": [
    "## Live Lecture - Deriving Bayes' Theorem, Calculating Bayesian Confidence"
   ]
  },
  {
   "cell_type": "markdown",
   "metadata": {
    "colab_type": "text",
    "id": "moIJNQ-nbfe_"
   },
   "source": [
    "Notice that $P(A|B)$ appears in the above laws - in Bayesian terms, this is the belief in $A$ updated for the evidence $B$. So all we need to do is solve for this term to derive Bayes' theorem. Let's do it together!"
   ]
  },
  {
   "cell_type": "code",
   "execution_count": 27,
   "metadata": {
    "colab": {
     "base_uri": "https://localhost:8080/",
     "height": 69
    },
    "colab_type": "code",
    "id": "mrZGfKGZX5Y6",
    "outputId": "c16a4824-4e32-4462-8f6d-3d308a8d7982"
   },
   "outputs": [
    {
     "name": "stdout",
     "output_type": "stream",
     "text": [
      "[0 1 1 1 0 0 0 1 1 1 0 1 1 0 0 0 0 1 0 0 1 0 0 0 0 1 0 1 1 0 1 0 0 1 1 1 0\n",
      " 0 1 0 0 0 0 1 0 1 0 1 1 0 1 1 1 1 1 1 0 0 0 0 0 0 1 0 0 1 0 1 0 1 1 0 0 1\n",
      " 1 1 1 0 0 0 1 1 0 0 0 0 1 1 1 0 0 1 1 1 1 0 1 0 0 0]\n"
     ]
    }
   ],
   "source": [
    "# Activity 2 - Use SciPy to calculate Bayesian confidence intervals\n",
    "# https://docs.scipy.org/doc/scipy/reference/generated/scipy.stats.bayes_mvs.html#scipy.stats.bayes_mvs\n",
    "\n",
    "from scipy import stats\n",
    "import numpy as np\n",
    "\n",
    "np.random.seed(seed=42)\n",
    "\n",
    "coinflips = np.random.binomial(n=1, p=.5, size=100)\n",
    "print(coinflips)"
   ]
  },
  {
   "cell_type": "code",
   "execution_count": 28,
   "metadata": {
    "colab": {},
    "colab_type": "code",
    "id": "ke-5EqJI0Tsn"
   },
   "outputs": [],
   "source": [
    "def confidence_interval(data, confidence=.95): #takes data, returns (mean, lower bound, upper bound)\n",
    "  n = len(data)\n",
    "  mean = sum(data)/n\n",
    "  data = np.array(data)\n",
    "  stderr = stats.sem(data)\n",
    "  interval = stderr * stats.t.ppf((1 + confidence) / 2.0, n-1) #ppf= percentile point function????\n",
    "  return (mean , mean-interval, mean+interval) #mean-interval= upper tail, mean-interval = lower tail"
   ]
  },
  {
   "cell_type": "code",
   "execution_count": 42,
   "metadata": {
    "colab": {
     "base_uri": "https://localhost:8080/",
     "height": 35
    },
    "colab_type": "code",
    "id": "ptdzv7wqkR5z",
    "outputId": "f13f045a-e229-450e-c6b4-516aebf15ea9"
   },
   "outputs": [
    {
     "data": {
      "text/plain": [
       "(0.47, 0.3382559414149644, 0.6017440585850355)"
      ]
     },
     "execution_count": 42,
     "metadata": {},
     "output_type": "execute_result"
    }
   ],
   "source": [
    "confidence_interval(coinflips , confidence=.99)"
   ]
  },
  {
   "cell_type": "code",
   "execution_count": 30,
   "metadata": {
    "colab": {},
    "colab_type": "code",
    "id": "-xoD7dw2kvUn"
   },
   "outputs": [],
   "source": [
    "??stats.bayes_mvs"
   ]
  },
  {
   "cell_type": "code",
   "execution_count": 31,
   "metadata": {
    "colab": {
     "base_uri": "https://localhost:8080/",
     "height": 69
    },
    "colab_type": "code",
    "id": "QGM2YWarmIsE",
    "outputId": "5bf448c7-ed64-447b-b495-3d5bd2b0da87"
   },
   "outputs": [
    {
     "data": {
      "text/plain": [
       "(Mean(statistic=0.47, minmax=(0.37046898750173674, 0.5695310124982632)),\n",
       " Variance(statistic=0.25680412371134015, minmax=(0.1939698977025208, 0.3395533426586547)),\n",
       " Std_dev(statistic=0.5054540733507159, minmax=(0.44042013771229943, 0.5827120581030176)))"
      ]
     },
     "execution_count": 31,
     "metadata": {},
     "output_type": "execute_result"
    }
   ],
   "source": [
    "stats.bayes_mvs(coinflips, alpha=.95)"
   ]
  },
  {
   "cell_type": "code",
   "execution_count": 32,
   "metadata": {
    "colab": {
     "base_uri": "https://localhost:8080/",
     "height": 35
    },
    "colab_type": "code",
    "id": "5y5GBLz1nCI9",
    "outputId": "d779e550-4fa8-443d-f3f2-d987bee33aa1"
   },
   "outputs": [
    {
     "data": {
      "text/plain": [
       "<scipy.stats._distn_infrastructure.rv_frozen at 0x210f661e5f8>"
      ]
     },
     "execution_count": 32,
     "metadata": {},
     "output_type": "execute_result"
    }
   ],
   "source": [
    "coinflips_mean_dist, _, _ = stats.mvsdist(coinflips)\n",
    "coinflips_mean_dist"
   ]
  },
  {
   "cell_type": "code",
   "execution_count": 33,
   "metadata": {
    "colab": {
     "base_uri": "https://localhost:8080/",
     "height": 363
    },
    "colab_type": "code",
    "id": "FxLfoULVm65O",
    "outputId": "2ae6e959-3b96-4e4f-ae56-26adf2182c9c"
   },
   "outputs": [
    {
     "data": {
      "text/plain": [
       "array([0.47447628, 0.51541425, 0.54722018, 0.4589882 , 0.51501386,\n",
       "       0.53819192, 0.43382292, 0.53546659, 0.47026173, 0.44967562,\n",
       "       0.4621107 , 0.42691904, 0.37324325, 0.47531437, 0.46052277,\n",
       "       0.48711257, 0.52456771, 0.43332181, 0.49545882, 0.44671454,\n",
       "       0.47520117, 0.47047251, 0.41828918, 0.50159477, 0.42965501,\n",
       "       0.45273383, 0.48045849, 0.45342529, 0.48238344, 0.53966291,\n",
       "       0.48230241, 0.48073422, 0.48553525, 0.47962228, 0.41274185,\n",
       "       0.42892633, 0.5170948 , 0.42678096, 0.42249309, 0.51499109,\n",
       "       0.47059199, 0.39903942, 0.41790336, 0.46406817, 0.42232382,\n",
       "       0.42163269, 0.47848227, 0.48232842, 0.4731858 , 0.51077244,\n",
       "       0.3957508 , 0.48504646, 0.49014295, 0.53252732, 0.45495376,\n",
       "       0.47883978, 0.60393033, 0.4492549 , 0.44797902, 0.54782121,\n",
       "       0.43380002, 0.5760073 , 0.36941266, 0.44467418, 0.4939245 ,\n",
       "       0.45278835, 0.55635162, 0.48695459, 0.39080983, 0.45948606,\n",
       "       0.2941779 , 0.35950718, 0.44805696, 0.4725126 , 0.42218381,\n",
       "       0.45985418, 0.47545393, 0.44317753, 0.46267013, 0.4458753 ,\n",
       "       0.44204707, 0.51334913, 0.50914181, 0.49923748, 0.46895674,\n",
       "       0.43892798, 0.45984946, 0.44984632, 0.53560791, 0.45865723,\n",
       "       0.48646824, 0.55937503, 0.41464303, 0.50701457, 0.46934196,\n",
       "       0.37681534, 0.42748113, 0.49812825, 0.48278895, 0.4964763 ])"
      ]
     },
     "execution_count": 33,
     "metadata": {},
     "output_type": "execute_result"
    }
   ],
   "source": [
    "coinflips_mean_dist.rvs(100) #booststraping simulates 100 means"
   ]
  },
  {
   "cell_type": "markdown",
   "metadata": {
    "colab_type": "text",
    "id": "P-DzzRk5bf0z"
   },
   "source": [
    "## Assignment - Code it up!\n",
    "\n",
    "Most of the above was pure math - now write Python code to reproduce the results! This is purposefully open ended - you'll have to think about how you should represent probabilities and events. You can and should look things up, and as a stretch goal - refactor your code into helpful reusable functions!\n",
    "\n",
    "Specific goals/targets:\n",
    "\n",
    "1. Write a function `def prob_drunk_given_positive(prob_drunk_prior, prob_positive, prob_positive_drunk)` that reproduces the example from lecture, and use it to calculate and visualize a range of situations\n",
    "2. Explore `scipy.stats.bayes_mvs` - read its documentation, and experiment with it on data you've tested in other ways earlier this week\n",
    "3. Create a visualization comparing the results of a Bayesian approach to a traditional/frequentist approach\n",
    "4. In your own words, summarize the difference between Bayesian and Frequentist statistics\n",
    "\n",
    "If you're unsure where to start, check out [this blog post of Bayes theorem with Python](https://dataconomy.com/2015/02/introduction-to-bayes-theorem-with-python/) - you could and should create something similar!\n",
    "\n",
    "Stretch goals:\n",
    "\n",
    "- Apply a Bayesian technique to a problem you previously worked (in an assignment or project work) on from a frequentist (standard) perspective\n",
    "- Check out [PyMC3](https://docs.pymc.io/) (note this goes beyond hypothesis tests into modeling) - read the guides and work through some examples\n",
    "- Take PyMC3 further - see if you can build something with it!"
   ]
  },
  {
   "cell_type": "code",
   "execution_count": 64,
   "metadata": {},
   "outputs": [
    {
     "name": "stdout",
     "output_type": "stream",
     "text": [
      "Test 0: 0.012357884330202669\n",
      "Test 1: 0.13525210993291495\n",
      "Test 2: 0.6615996951348605\n",
      "Test 3: 0.9606895076105054\n",
      "Test 4: 0.9967371577896734\n",
      "Test 5: 0.9997381867081508\n",
      "Test 6: 0.9999790498904363\n",
      "Test 7: 0.9999983239589307\n",
      "Test 8: 0.9999998659165077\n",
      "Test 9: 0.9999999892733192\n"
     ]
    }
   ],
   "source": [
    "def prob_drunk_given_positive(prob_drunk, prob_positive, prob_pos_gvn_drunk):\n",
    "    prob_pos_gvn_sober = 0.08\n",
    "\n",
    "    for i in range (10):\n",
    "        prob_sober = 1-prob_drunk\n",
    "\n",
    "        prob_pos = prob_pos_gvn_drunk*prob_drunk + prob_pos_gvn_sober*prob_sober\n",
    "\n",
    "        prob_drunk = (prob_pos_gvn_drunk*prob_drunk)/prob_pos\n",
    "        print(f'Test {i}: {prob_drunk}')\n",
    "        \n",
    "prob_drunk_given_positive(0.001,_,1)"
   ]
  },
  {
   "cell_type": "code",
   "execution_count": null,
   "metadata": {},
   "outputs": [],
   "source": []
  },
  {
   "cell_type": "markdown",
   "metadata": {
    "colab_type": "text",
    "id": "uWgWjp3PQ3Sq"
   },
   "source": [
    "## Resources"
   ]
  },
  {
   "cell_type": "markdown",
   "metadata": {
    "colab_type": "text",
    "id": "QRgHqmYIQ9qn"
   },
   "source": [
    "- [Worked example of Bayes rule calculation](https://en.wikipedia.org/wiki/Bayes'_theorem#Examples) (helpful as it fully breaks out the denominator)\n",
    "- [Source code for mvsdist in scipy](https://github.com/scipy/scipy/blob/90534919e139d2a81c24bf08341734ff41a3db12/scipy/stats/morestats.py#L139)"
   ]
  }
 ],
 "metadata": {
  "colab": {
   "name": "LS_DS4_143_Introduction_to_Bayesian_Inference.ipynb",
   "provenance": [],
   "version": "0.3.2"
  },
  "kernelspec": {
   "display_name": "Python 3",
   "language": "python",
   "name": "python3"
  },
  "language_info": {
   "codemirror_mode": {
    "name": "ipython",
    "version": 3
   },
   "file_extension": ".py",
   "mimetype": "text/x-python",
   "name": "python",
   "nbconvert_exporter": "python",
   "pygments_lexer": "ipython3",
   "version": "3.7.0"
  }
 },
 "nbformat": 4,
 "nbformat_minor": 1
}
